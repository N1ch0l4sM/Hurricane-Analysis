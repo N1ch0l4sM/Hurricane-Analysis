{
 "cells": [
  {
   "cell_type": "markdown",
   "id": "58875e7a",
   "metadata": {},
   "source": [
    "# Hurricane Analysis"
   ]
  },
  {
   "cell_type": "markdown",
   "id": "9a2d9627",
   "metadata": {},
   "source": [
    "#### Overview"
   ]
  },
  {
   "cell_type": "markdown",
   "id": "633e5dde",
   "metadata": {},
   "source": [
    "This project is slightly different than others you have encountered thus far. Instead of a step-by-step tutorial, this project contains a series of open-ended requirements which describe the project you'll be building. There are many possible ways to correctly fulfill all of these requirements, and you should expect to use the internet, Codecademy, and other resources when you encounter a problem that you cannot easily solve."
   ]
  },
  {
   "cell_type": "markdown",
   "id": "52f01f07",
   "metadata": {},
   "source": [
    "#### Project Goals"
   ]
  },
  {
   "cell_type": "markdown",
   "id": "d9d06c43",
   "metadata": {},
   "source": [
    "You will work to write several functions that organize and manipulate data about Category 5 Hurricanes, the strongest hurricanes as rated by their wind speed. Each one of these functions will use a number of parameters, conditionals, lists, dictionaries, string manipulation, and return statements."
   ]
  },
  {
   "cell_type": "markdown",
   "id": "7fbb9fb5",
   "metadata": {},
   "source": [
    "#### Prerequisites"
   ]
  },
  {
   "cell_type": "markdown",
   "id": "4732a1e8",
   "metadata": {},
   "source": [
    "In order to complete this project, you should have completed the Loops and Dictionaries sections of the [Learn Python 3 Course](https://www.codecademy.com/learn/learn-python-3). This content is also covered in the [Data Scientist Career Path](https://www.codecademy.com/learn/paths/data-science/)."
   ]
  },
  {
   "cell_type": "markdown",
   "id": "1e924903",
   "metadata": {},
   "source": [
    "## Project Requirements"
   ]
  },
  {
   "cell_type": "markdown",
   "id": "35d6f74d",
   "metadata": {},
   "source": [
    "1. Hurricanes, also known as cyclones or typhoons, are one of the most powerful forces of nature on Earth. Due to climate change caused by human activity, the number and intensity of hurricanes has risen, calling for better preparation by the many communities that are devastated by them. As a concerned environmentalist, you want to look at data about the most powerful hurricanes that have occured. \n",
    "\n",
    "   Begin by looking at the `damages` list. The list contains strings representing the total cost in USD(`$`) caused by `34` category 5 hurricanes (wind speeds $\\ge$ 157 mph (252 km/h)) in the Atlantic region. For some of the hurricanes, damage data was not recorded (`\"Damages not recorded\"`), while the rest are written in the format `\"Prefix-B/M\"`, where `B` stands for billions (`1000000000`) and `M` stands for millions (`1000000`).\n",
    "   \n",
    "   Write a function that returns a new list of updated damages where the recorded data is converted to float values and the missing data is retained as `\"Damages not recorded\"`.\n",
    "   \n",
    "   Test your function with the data stored in `damages`."
   ]
  },
  {
   "cell_type": "code",
   "execution_count": 2,
   "id": "d8d3c50b",
   "metadata": {},
   "outputs": [
    {
     "data": {
      "text/plain": [
       "['Damages not recorded',\n",
       " 100000000.0,\n",
       " 'Damages not recorded',\n",
       " 40000000.0,\n",
       " 27900000.0,\n",
       " 5000000.0,\n",
       " 'Damages not recorded',\n",
       " 306000000.0,\n",
       " 2000000.0,\n",
       " 65800000.0,\n",
       " 326000000.0,\n",
       " 60300000.0,\n",
       " 208000000.0,\n",
       " 1420000000.0,\n",
       " 25400000.0,\n",
       " 'Damages not recorded',\n",
       " 1540000000.0,\n",
       " 1240000000.0,\n",
       " 7100000000.0,\n",
       " 10000000000.0,\n",
       " 26500000000.0,\n",
       " 6200000000.0,\n",
       " 5370000000.0,\n",
       " 23300000000.0,\n",
       " 1010000000.0,\n",
       " 125000000000.0,\n",
       " 12000000000.0,\n",
       " 29400000000.0,\n",
       " 1760000000.0,\n",
       " 720000000.0,\n",
       " 15100000000.0,\n",
       " 64800000000.0,\n",
       " 91600000000.0,\n",
       " 25100000000.0]"
      ]
     },
     "execution_count": 2,
     "metadata": {},
     "output_type": "execute_result"
    }
   ],
   "source": [
    "# damages (USD($)) of hurricanes\n",
    "damages = ['Damages not recorded', '100M', 'Damages not recorded', '40M',\n",
    "          '27.9M', '5M', 'Damages not recorded', '306M', '2M', '65.8M',\n",
    "          '326M', '60.3M', '208M', '1.42B', '25.4M', 'Damages not recorded',\n",
    "          '1.54B', '1.24B', '7.1B', '10B', '26.5B', '6.2B', '5.37B', '23.3B',\n",
    "          '1.01B', '125B', '12B', '29.4B', '1.76B', '720M', '15.1B', '64.8B',\n",
    "          '91.6B', '25.1B']\n",
    "\n",
    "# 1\n",
    "# Update Recorded Damages\n",
    "conversion = {\"M\": 1000000,\n",
    "             \"B\": 1000000000}\n",
    "\n",
    "\n",
    "# test function by updating damages\n",
    "def update_damages(damages, conversion):\n",
    "    damages_updated = []\n",
    "    for i in damages:\n",
    "        if i == \"Damages not recorded\":\n",
    "            damages_updated.append(i)\n",
    "        else:\n",
    "            damages_updated.append(float(i[0:-1]) * conversion[i[-1]])\n",
    "    return damages_updated\n",
    "\n",
    "update_damages(damages, conversion)\n",
    "\n"
   ]
  },
  {
   "cell_type": "markdown",
   "id": "36ac47b6",
   "metadata": {},
   "source": [
    "2. Additional data collected on the `34` strongest Atlantic hurricanes are provided in a series of lists. The data includes:\n",
    "   - `names`: names of the hurricanes\n",
    "   - `months`: months in which the hurricanes occurred\n",
    "   - `years`: years in which the hurricanes occurred\n",
    "   - `max_sustained_winds`: maximum sustained winds (miles per hour) of the hurricanes\n",
    "   - `areas_affected`: list of different areas affected by each of the hurricanes\n",
    "   - `deaths`: total number of deaths caused by each of the hurricanes\n",
    "   \n",
    "   The data is organized such that the data at each index, from `0` to `33`, corresponds to the same hurricane.\n",
    "   \n",
    "   For example, `names[0]` yields the \"Cuba I\" hurricane, which occurred in `months[0]` (October) `years[0]` (1924).\n",
    "   \n",
    "   Write a function that constructs a dictionary made out of the lists, where the keys of the dictionary are the names of the hurricanes, and the values are dictionaries themselves containing a key for each piece of data (`Name`, `Month`, `Year`, `Max Sustained Wind`, `Areas Affected`, `Damage`, `Death`) about the hurricane.\n",
    "   \n",
    "   Thus the key `\"Cuba I\"` would have the value: `{'Name': 'Cuba I', 'Month': 'October', 'Year': 1924, 'Max Sustained Wind': 165, 'Areas Affected': ['Central America', 'Mexico', 'Cuba', 'Florida', 'The Bahamas'], 'Damage': 'Damages not recorded', 'Deaths': 90}`.\n",
    "   \n",
    "   Test your function on the lists of data provided."
   ]
  },
  {
   "cell_type": "code",
   "execution_count": 95,
   "id": "641aa113",
   "metadata": {},
   "outputs": [
    {
     "name": "stdout",
     "output_type": "stream",
     "text": [
      "{'Name': 'Cuba II', 'Months': 'November', 'Years': 1932, 'Max Sustained Winds': 175, 'Areas affected': ['Lesser Antilles', 'Jamaica', 'Cayman Islands', 'Cuba', 'The Bahamas', 'Bermuda'], 'Damages': '40M', 'Deaths': 3103}\n"
     ]
    }
   ],
   "source": [
    "# names of hurricanes\n",
    "names = ['Cuba I', 'San Felipe II Okeechobee', 'Bahamas', 'Cuba II', 'CubaBrownsville', 'Tampico', 'Labor Day', 'New England', 'Carol', 'Janet', 'Carla', 'Hattie', 'Beulah', 'Camille', 'Edith', 'Anita', 'David', 'Allen', 'Gilbert', 'Hugo', 'Andrew', 'Mitch', 'Isabel', 'Ivan', 'Emily', 'Katrina', 'Rita', 'Wilma', 'Dean', 'Felix', 'Matthew', 'Irma', 'Maria', 'Michael']\n",
    "\n",
    "# months of hurricanes\n",
    "months = ['October', 'September', 'September', 'November', 'August', 'September', 'September', 'September', 'September', 'September', 'September', 'October', 'September', 'August', 'September', 'September', 'August', 'August', 'September', 'September', 'August', 'October', 'September', 'September', 'July', 'August', 'September', 'October', 'August', 'September', 'October', 'September', 'September', 'October']\n",
    "\n",
    "# years of hurricanes\n",
    "years = [1924, 1928, 1932, 1932, 1933, 1933, 1935, 1938, 1953, 1955, 1961, 1961, 1967, 1969, 1971, 1977, 1979, 1980, 1988, 1989, 1992, 1998, 2003, 2004, 2005, 2005, 2005, 2005, 2007, 2007, 2016, 2017, 2017, 2018]\n",
    "\n",
    "# maximum sustained winds (mph) of hurricanes\n",
    "max_sustained_winds = [165, 160, 160, 175, 160, 160, 185, 160, 160, 175, 175, 160, 160, 175, 160, 175, 175, 190, 185, 160, 175, 180, 165, 165, 160, 175, 180, 185, 175, 175, 165, 180, 175, 160]\n",
    "\n",
    "# areas affected by each hurricane\n",
    "areas_affected = [['Central America', 'Mexico', 'Cuba', 'Florida', 'The Bahamas'], ['Lesser Antilles', 'The Bahamas', 'United States East Coast', 'Atlantic Canada'], ['The Bahamas', 'Northeastern United States'], ['Lesser Antilles', 'Jamaica', 'Cayman Islands', 'Cuba', 'The Bahamas', 'Bermuda'], ['The Bahamas', 'Cuba', 'Florida', 'Texas', 'Tamaulipas'], ['Jamaica', 'Yucatn Peninsula'], ['The Bahamas', 'Florida', 'Georgia', 'The Carolinas', 'Virginia'], ['Southeastern United States', 'Northeastern United States', 'Southwestern Quebec'], ['Bermuda', 'New England', 'Atlantic Canada'], ['Lesser Antilles', 'Central America'], ['Texas', 'Louisiana', 'Midwestern United States'], ['Central America'], ['The Caribbean', 'Mexico', 'Texas'], ['Cuba', 'United States Gulf Coast'], ['The Caribbean', 'Central America', 'Mexico', 'United States Gulf Coast'], ['Mexico'], ['The Caribbean', 'United States East coast'], ['The Caribbean', 'Yucatn Peninsula', 'Mexico', 'South Texas'], ['Jamaica', 'Venezuela', 'Central America', 'Hispaniola', 'Mexico'], ['The Caribbean', 'United States East Coast'], ['The Bahamas', 'Florida', 'United States Gulf Coast'], ['Central America', 'Yucatn Peninsula', 'South Florida'], ['Greater Antilles', 'Bahamas', 'Eastern United States', 'Ontario'], ['The Caribbean', 'Venezuela', 'United States Gulf Coast'], ['Windward Islands', 'Jamaica', 'Mexico', 'Texas'], ['Bahamas', 'United States Gulf Coast'], ['Cuba', 'United States Gulf Coast'], ['Greater Antilles', 'Central America', 'Florida'], ['The Caribbean', 'Central America'], ['Nicaragua', 'Honduras'], ['Antilles', 'Venezuela', 'Colombia', 'United States East Coast', 'Atlantic Canada'], ['Cape Verde', 'The Caribbean', 'British Virgin Islands', 'U.S. Virgin Islands', 'Cuba', 'Florida'], ['Lesser Antilles', 'Virgin Islands', 'Puerto Rico', 'Dominican Republic', 'Turks and Caicos Islands'], ['Central America', 'United States Gulf Coast (especially Florida Panhandle)']]\n",
    "\n",
    "# damages (USD($)) of hurricanes\n",
    "damages = ['Damages not recorded', '100M', 'Damages not recorded', '40M', '27.9M', '5M', 'Damages not recorded', '306M', '2M', '65.8M', '326M', '60.3M', '208M', '1.42B', '25.4M', 'Damages not recorded', '1.54B', '1.24B', '7.1B', '10B', '26.5B', '6.2B', '5.37B', '23.3B', '1.01B', '125B', '12B', '29.4B', '1.76B', '720M', '15.1B', '64.8B', '91.6B', '25.1B']\n",
    "\n",
    "# deaths for each hurricane\n",
    "deaths = [90,4000,16,3103,179,184,408,682,5,1023,43,319,688,259,37,11,2068,269,318,107,65,19325,51,124,17,1836,125,87,45,133,603,138,3057,74]\n",
    "\n",
    "# 2\n",
    "# Create a Table\n",
    "table = {}\n",
    "for i in range(len(names)):\n",
    "    table[names[i]] = {'Name' : names[i],\n",
    "                    'Months': months[i],\n",
    "                    'Years': years[i],\n",
    "                    'Max Sustained Winds' : max_sustained_winds[i], \n",
    "                    'Areas affected' : areas_affected[i], \n",
    "                    'Damages' : damages[i], \n",
    "                    'Deaths' : deaths[i]}\n",
    "# Create and view the hurricanes dictionary\n",
    "print(table['Cuba II'])"
   ]
  },
  {
   "cell_type": "markdown",
   "id": "6d0a1933",
   "metadata": {},
   "source": [
    "3. In addition to organizing the hurricanes in a dictionary with names as the key, you want to be able to organize the hurricanes by year.\n",
    "\n",
    "   Write a function that converts the current dictionary of hurricanes to a new dictionary, where the keys are years and the values are lists containing a dictionary for each hurricane that occurred in that year.\n",
    "   \n",
    "   For example, the key `1932` would yield the value: `[{'Name': 'Bahamas', 'Month': 'September', 'Year': 1932, 'Max Sustained Wind': 160, 'Areas Affected': ['The Bahamas', 'Northeastern United States'], 'Damage': 'Damage not recorded', 'Deaths': 16}, {'Name': 'Cuba II', 'Month': 'November', 'Year': 1932, 'Max Sustained Wind': 175, 'Areas Affected': ['Lesser Antilles', 'Jamaica', 'Cayman Islands', 'Cuba', 'The Bahamas', 'Bermuda'], 'Damage': 40000000.0, 'Deaths': 3103}]`.\n",
    "   \n",
    "   Test your function on your hurricane dictionary."
   ]
  },
  {
   "cell_type": "code",
   "execution_count": 96,
   "id": "1ef2edea",
   "metadata": {},
   "outputs": [
    {
     "name": "stdout",
     "output_type": "stream",
     "text": [
      "[{'Name': 'Bahamas', 'Months': 'September', 'Years': 1932, 'Max Sustained Winds': 160, 'Areas affected': ['The Bahamas', 'Northeastern United States'], 'Damages': 'Damages not recorded', 'Deaths': 16}, {'Name': 'Cuba II', 'Months': 'November', 'Years': 1932, 'Max Sustained Winds': 175, 'Areas affected': ['Lesser Antilles', 'Jamaica', 'Cayman Islands', 'Cuba', 'The Bahamas', 'Bermuda'], 'Damages': '40M', 'Deaths': 3103}]\n"
     ]
    }
   ],
   "source": [
    "# 3\n",
    "# Organizing by Year\n",
    "table_year = {}\n",
    "for i in range(len(years)):\n",
    "    temp = []\n",
    "    for value in table.values():\n",
    "        if value['Years'] == years[i]:\n",
    "            temp.append(value)\n",
    "        \n",
    "    table_year[years[i]] = temp\n",
    "# create a new dictionary of hurricanes with year and key\n",
    "print(table_year[1932])"
   ]
  },
  {
   "cell_type": "markdown",
   "id": "66973f77",
   "metadata": {},
   "source": [
    "4. You believe that knowing how often each of the areas of the Atlantic are affected by these strong hurricanes is important for making preparations for future hurricanes.\n",
    "\n",
    "   Write a function that counts how often each area is listed as an affected area of a hurricane. Store and return the results in a dictionary where the keys are the affected areas and the values are counts of how many times the areas were affected.\n",
    "   \n",
    "   Test your function on your hurricane dictionary."
   ]
  },
  {
   "cell_type": "code",
   "execution_count": 97,
   "id": "bff86f77",
   "metadata": {},
   "outputs": [
    {
     "name": "stdout",
     "output_type": "stream",
     "text": [
      "{'Central America': 9, 'Mexico': 7, 'Cuba': 6, 'Florida': 6, 'The Bahamas': 7, 'Lesser Antilles': 4, 'United States East Coast': 3, 'Atlantic Canada': 3, 'Northeastern United States': 2, 'Jamaica': 4, 'Cayman Islands': 1, 'Bermuda': 2, 'Texas': 4, 'Tamaulipas': 1, 'Yucatn Peninsula': 3, 'Georgia': 1, 'The Carolinas': 1, 'Virginia': 1, 'Southeastern United States': 1, 'Southwestern Quebec': 1, 'New England': 1, 'Louisiana': 1, 'Midwestern United States': 1, 'The Caribbean': 8, 'United States Gulf Coast': 6, 'United States East coast': 1, 'South Texas': 1, 'Venezuela': 3, 'Hispaniola': 1, 'South Florida': 1, 'Greater Antilles': 2, 'Bahamas': 2, 'Eastern United States': 1, 'Ontario': 1, 'Windward Islands': 1, 'Nicaragua': 1, 'Honduras': 1, 'Antilles': 1, 'Colombia': 1, 'Cape Verde': 1, 'British Virgin Islands': 1, 'U.S. Virgin Islands': 1, 'Virgin Islands': 1, 'Puerto Rico': 1, 'Dominican Republic': 1, 'Turks and Caicos Islands': 1, 'United States Gulf Coast (especially Florida Panhandle)': 1}\n"
     ]
    }
   ],
   "source": [
    "# 4\n",
    "# Counting Damaged Areas\n",
    "count_areas = {}\n",
    "for name in table.keys():\n",
    "    for item in table[name]['Areas affected']:\n",
    "        if item not in count_areas:\n",
    "            count_areas[item] = 1\n",
    "        else:\n",
    "            count_areas[item] += 1\n",
    "            \n",
    "print(count_areas)\n",
    "# create dictionary of areas to store the number of hurricanes involved in\n"
   ]
  },
  {
   "cell_type": "markdown",
   "id": "e015eeb3",
   "metadata": {},
   "source": [
    "5. Write a function that finds the area affected by the most hurricanes, and how often it was hit.\n",
    "\n",
    "   Test your function on your affected area dictionary."
   ]
  },
  {
   "cell_type": "code",
   "execution_count": 98,
   "id": "643c73f9",
   "metadata": {},
   "outputs": [],
   "source": [
    "# 5\n",
    "# Calculating Maximum Hurricane Count\n",
    "def max_count(count):\n",
    "    return max(count)\n",
    "# find most frequently affected area and the number of hurricanes involved in\n"
   ]
  },
  {
   "cell_type": "markdown",
   "id": "4c120f59",
   "metadata": {},
   "source": [
    "6. Write a function that finds the hurricane that caused the greatest number of deaths, and how many deaths it caused.\n",
    "\n",
    "   Test your function on your hurricane dictionary."
   ]
  },
  {
   "cell_type": "code",
   "execution_count": 99,
   "id": "ced02448",
   "metadata": {},
   "outputs": [
    {
     "data": {
      "text/plain": [
       "(19325, 'Mitch')"
      ]
     },
     "execution_count": 99,
     "metadata": {},
     "output_type": "execute_result"
    }
   ],
   "source": [
    "# 6\n",
    "# Calculating the Deadliest Hurricane\n",
    "def max_deaths(table):\n",
    "    max_deaths = 0\n",
    "    hurricane_name = ''\n",
    "    for row in table.values():\n",
    "        if int(row['Deaths']) > max_deaths:\n",
    "            max_deaths = row['Deaths']\n",
    "            hurricane_name = row['Name']\n",
    "    return max_deaths, hurricane_name\n",
    "# find highest mortality hurricane and the number of deaths\n",
    "\n",
    "max_deaths(table)\n"
   ]
  },
  {
   "cell_type": "markdown",
   "id": "9ddd39b0",
   "metadata": {},
   "source": [
    "7. Just as hurricanes are rated by their windspeed, you want to try rating hurricanes based on other metrics.\n",
    "\n",
    "   Write a function that rates hurricanes on a mortality scale according to the following ratings, where the key is the rating and the value is the upper bound of deaths for that rating.\n",
    "   \n",
    "   ```py\n",
    "   mortality_scale = {0: 0,\n",
    "   1: 100,\n",
    "   2: 500,\n",
    "   3: 1000,\n",
    "   4: 10000}\n",
    "   ```\n",
    "   \n",
    "   For example, a hurricane with a `1` mortality rating would have resulted in greater than `0` but less than or equal to `100` deaths. A hurricane with a `5` mortality would have resulted in greater than `10000` deaths.\n",
    "   \n",
    "   Store the hurricanes in a new dictionary where the keys are the mortaility ratings and the values are lists containing a dictionary for each hurricane that falls into that mortality rating.\n",
    "   \n",
    "   Test your function on your hurricane dictionary."
   ]
  },
  {
   "cell_type": "code",
   "execution_count": 101,
   "id": "9eea4dc7",
   "metadata": {},
   "outputs": [
    {
     "data": {
      "text/plain": [
       "{0: [],\n",
       " 1: [{'Name': 'Cuba I',\n",
       "   'Months': 'October',\n",
       "   'Years': 1924,\n",
       "   'Max Sustained Winds': 165,\n",
       "   'Areas affected': ['Central America',\n",
       "    'Mexico',\n",
       "    'Cuba',\n",
       "    'Florida',\n",
       "    'The Bahamas'],\n",
       "   'Damages': 'Damages not recorded',\n",
       "   'Deaths': 90},\n",
       "  {'Name': 'Bahamas',\n",
       "   'Months': 'September',\n",
       "   'Years': 1932,\n",
       "   'Max Sustained Winds': 160,\n",
       "   'Areas affected': ['The Bahamas', 'Northeastern United States'],\n",
       "   'Damages': 'Damages not recorded',\n",
       "   'Deaths': 16},\n",
       "  {'Name': 'Carol',\n",
       "   'Months': 'September',\n",
       "   'Years': 1953,\n",
       "   'Max Sustained Winds': 160,\n",
       "   'Areas affected': ['Bermuda', 'New England', 'Atlantic Canada'],\n",
       "   'Damages': '2M',\n",
       "   'Deaths': 5},\n",
       "  {'Name': 'Carla',\n",
       "   'Months': 'September',\n",
       "   'Years': 1961,\n",
       "   'Max Sustained Winds': 175,\n",
       "   'Areas affected': ['Texas', 'Louisiana', 'Midwestern United States'],\n",
       "   'Damages': '326M',\n",
       "   'Deaths': 43},\n",
       "  {'Name': 'Edith',\n",
       "   'Months': 'September',\n",
       "   'Years': 1971,\n",
       "   'Max Sustained Winds': 160,\n",
       "   'Areas affected': ['The Caribbean',\n",
       "    'Central America',\n",
       "    'Mexico',\n",
       "    'United States Gulf Coast'],\n",
       "   'Damages': '25.4M',\n",
       "   'Deaths': 37},\n",
       "  {'Name': 'Anita',\n",
       "   'Months': 'September',\n",
       "   'Years': 1977,\n",
       "   'Max Sustained Winds': 175,\n",
       "   'Areas affected': ['Mexico'],\n",
       "   'Damages': 'Damages not recorded',\n",
       "   'Deaths': 11},\n",
       "  {'Name': 'Andrew',\n",
       "   'Months': 'August',\n",
       "   'Years': 1992,\n",
       "   'Max Sustained Winds': 175,\n",
       "   'Areas affected': ['The Bahamas', 'Florida', 'United States Gulf Coast'],\n",
       "   'Damages': '26.5B',\n",
       "   'Deaths': 65},\n",
       "  {'Name': 'Isabel',\n",
       "   'Months': 'September',\n",
       "   'Years': 2003,\n",
       "   'Max Sustained Winds': 165,\n",
       "   'Areas affected': ['Greater Antilles',\n",
       "    'Bahamas',\n",
       "    'Eastern United States',\n",
       "    'Ontario'],\n",
       "   'Damages': '5.37B',\n",
       "   'Deaths': 51},\n",
       "  {'Name': 'Emily',\n",
       "   'Months': 'July',\n",
       "   'Years': 2005,\n",
       "   'Max Sustained Winds': 160,\n",
       "   'Areas affected': ['Windward Islands', 'Jamaica', 'Mexico', 'Texas'],\n",
       "   'Damages': '1.01B',\n",
       "   'Deaths': 17},\n",
       "  {'Name': 'Wilma',\n",
       "   'Months': 'October',\n",
       "   'Years': 2005,\n",
       "   'Max Sustained Winds': 185,\n",
       "   'Areas affected': ['Greater Antilles', 'Central America', 'Florida'],\n",
       "   'Damages': '29.4B',\n",
       "   'Deaths': 87},\n",
       "  {'Name': 'Dean',\n",
       "   'Months': 'August',\n",
       "   'Years': 2007,\n",
       "   'Max Sustained Winds': 175,\n",
       "   'Areas affected': ['The Caribbean', 'Central America'],\n",
       "   'Damages': '1.76B',\n",
       "   'Deaths': 45},\n",
       "  {'Name': 'Michael',\n",
       "   'Months': 'October',\n",
       "   'Years': 2018,\n",
       "   'Max Sustained Winds': 160,\n",
       "   'Areas affected': ['Central America',\n",
       "    'United States Gulf Coast (especially Florida Panhandle)'],\n",
       "   'Damages': '25.1B',\n",
       "   'Deaths': 74}],\n",
       " 2: [{'Name': 'CubaBrownsville',\n",
       "   'Months': 'August',\n",
       "   'Years': 1933,\n",
       "   'Max Sustained Winds': 160,\n",
       "   'Areas affected': ['The Bahamas', 'Cuba', 'Florida', 'Texas', 'Tamaulipas'],\n",
       "   'Damages': '27.9M',\n",
       "   'Deaths': 179},\n",
       "  {'Name': 'Tampico',\n",
       "   'Months': 'September',\n",
       "   'Years': 1933,\n",
       "   'Max Sustained Winds': 160,\n",
       "   'Areas affected': ['Jamaica', 'Yucatn Peninsula'],\n",
       "   'Damages': '5M',\n",
       "   'Deaths': 184},\n",
       "  {'Name': 'Labor Day',\n",
       "   'Months': 'September',\n",
       "   'Years': 1935,\n",
       "   'Max Sustained Winds': 185,\n",
       "   'Areas affected': ['The Bahamas',\n",
       "    'Florida',\n",
       "    'Georgia',\n",
       "    'The Carolinas',\n",
       "    'Virginia'],\n",
       "   'Damages': 'Damages not recorded',\n",
       "   'Deaths': 408},\n",
       "  {'Name': 'New England',\n",
       "   'Months': 'September',\n",
       "   'Years': 1938,\n",
       "   'Max Sustained Winds': 160,\n",
       "   'Areas affected': ['Southeastern United States',\n",
       "    'Northeastern United States',\n",
       "    'Southwestern Quebec'],\n",
       "   'Damages': '306M',\n",
       "   'Deaths': 682},\n",
       "  {'Name': 'Hattie',\n",
       "   'Months': 'October',\n",
       "   'Years': 1961,\n",
       "   'Max Sustained Winds': 160,\n",
       "   'Areas affected': ['Central America'],\n",
       "   'Damages': '60.3M',\n",
       "   'Deaths': 319},\n",
       "  {'Name': 'Beulah',\n",
       "   'Months': 'September',\n",
       "   'Years': 1967,\n",
       "   'Max Sustained Winds': 160,\n",
       "   'Areas affected': ['The Caribbean', 'Mexico', 'Texas'],\n",
       "   'Damages': '208M',\n",
       "   'Deaths': 688},\n",
       "  {'Name': 'Camille',\n",
       "   'Months': 'August',\n",
       "   'Years': 1969,\n",
       "   'Max Sustained Winds': 175,\n",
       "   'Areas affected': ['Cuba', 'United States Gulf Coast'],\n",
       "   'Damages': '1.42B',\n",
       "   'Deaths': 259},\n",
       "  {'Name': 'Allen',\n",
       "   'Months': 'August',\n",
       "   'Years': 1980,\n",
       "   'Max Sustained Winds': 190,\n",
       "   'Areas affected': ['The Caribbean',\n",
       "    'Yucatn Peninsula',\n",
       "    'Mexico',\n",
       "    'South Texas'],\n",
       "   'Damages': '1.24B',\n",
       "   'Deaths': 269},\n",
       "  {'Name': 'Gilbert',\n",
       "   'Months': 'September',\n",
       "   'Years': 1988,\n",
       "   'Max Sustained Winds': 185,\n",
       "   'Areas affected': ['Jamaica',\n",
       "    'Venezuela',\n",
       "    'Central America',\n",
       "    'Hispaniola',\n",
       "    'Mexico'],\n",
       "   'Damages': '7.1B',\n",
       "   'Deaths': 318},\n",
       "  {'Name': 'Hugo',\n",
       "   'Months': 'September',\n",
       "   'Years': 1989,\n",
       "   'Max Sustained Winds': 160,\n",
       "   'Areas affected': ['The Caribbean', 'United States East Coast'],\n",
       "   'Damages': '10B',\n",
       "   'Deaths': 107},\n",
       "  {'Name': 'Ivan',\n",
       "   'Months': 'September',\n",
       "   'Years': 2004,\n",
       "   'Max Sustained Winds': 165,\n",
       "   'Areas affected': ['The Caribbean',\n",
       "    'Venezuela',\n",
       "    'United States Gulf Coast'],\n",
       "   'Damages': '23.3B',\n",
       "   'Deaths': 124},\n",
       "  {'Name': 'Rita',\n",
       "   'Months': 'September',\n",
       "   'Years': 2005,\n",
       "   'Max Sustained Winds': 180,\n",
       "   'Areas affected': ['Cuba', 'United States Gulf Coast'],\n",
       "   'Damages': '12B',\n",
       "   'Deaths': 125},\n",
       "  {'Name': 'Felix',\n",
       "   'Months': 'September',\n",
       "   'Years': 2007,\n",
       "   'Max Sustained Winds': 175,\n",
       "   'Areas affected': ['Nicaragua', 'Honduras'],\n",
       "   'Damages': '720M',\n",
       "   'Deaths': 133},\n",
       "  {'Name': 'Matthew',\n",
       "   'Months': 'October',\n",
       "   'Years': 2016,\n",
       "   'Max Sustained Winds': 165,\n",
       "   'Areas affected': ['Antilles',\n",
       "    'Venezuela',\n",
       "    'Colombia',\n",
       "    'United States East Coast',\n",
       "    'Atlantic Canada'],\n",
       "   'Damages': '15.1B',\n",
       "   'Deaths': 603},\n",
       "  {'Name': 'Irma',\n",
       "   'Months': 'September',\n",
       "   'Years': 2017,\n",
       "   'Max Sustained Winds': 180,\n",
       "   'Areas affected': ['Cape Verde',\n",
       "    'The Caribbean',\n",
       "    'British Virgin Islands',\n",
       "    'U.S. Virgin Islands',\n",
       "    'Cuba',\n",
       "    'Florida'],\n",
       "   'Damages': '64.8B',\n",
       "   'Deaths': 138}],\n",
       " 3: [{'Name': 'San Felipe II Okeechobee',\n",
       "   'Months': 'September',\n",
       "   'Years': 1928,\n",
       "   'Max Sustained Winds': 160,\n",
       "   'Areas affected': ['Lesser Antilles',\n",
       "    'The Bahamas',\n",
       "    'United States East Coast',\n",
       "    'Atlantic Canada'],\n",
       "   'Damages': '100M',\n",
       "   'Deaths': 4000},\n",
       "  {'Name': 'Cuba II',\n",
       "   'Months': 'November',\n",
       "   'Years': 1932,\n",
       "   'Max Sustained Winds': 175,\n",
       "   'Areas affected': ['Lesser Antilles',\n",
       "    'Jamaica',\n",
       "    'Cayman Islands',\n",
       "    'Cuba',\n",
       "    'The Bahamas',\n",
       "    'Bermuda'],\n",
       "   'Damages': '40M',\n",
       "   'Deaths': 3103},\n",
       "  {'Name': 'Janet',\n",
       "   'Months': 'September',\n",
       "   'Years': 1955,\n",
       "   'Max Sustained Winds': 175,\n",
       "   'Areas affected': ['Lesser Antilles', 'Central America'],\n",
       "   'Damages': '65.8M',\n",
       "   'Deaths': 1023},\n",
       "  {'Name': 'David',\n",
       "   'Months': 'August',\n",
       "   'Years': 1979,\n",
       "   'Max Sustained Winds': 175,\n",
       "   'Areas affected': ['The Caribbean', 'United States East coast'],\n",
       "   'Damages': '1.54B',\n",
       "   'Deaths': 2068},\n",
       "  {'Name': 'Katrina',\n",
       "   'Months': 'August',\n",
       "   'Years': 2005,\n",
       "   'Max Sustained Winds': 175,\n",
       "   'Areas affected': ['Bahamas', 'United States Gulf Coast'],\n",
       "   'Damages': '125B',\n",
       "   'Deaths': 1836},\n",
       "  {'Name': 'Maria',\n",
       "   'Months': 'September',\n",
       "   'Years': 2017,\n",
       "   'Max Sustained Winds': 175,\n",
       "   'Areas affected': ['Lesser Antilles',\n",
       "    'Virgin Islands',\n",
       "    'Puerto Rico',\n",
       "    'Dominican Republic',\n",
       "    'Turks and Caicos Islands'],\n",
       "   'Damages': '91.6B',\n",
       "   'Deaths': 3057}],\n",
       " 4: [{'Name': 'Mitch',\n",
       "   'Months': 'October',\n",
       "   'Years': 1998,\n",
       "   'Max Sustained Winds': 180,\n",
       "   'Areas affected': ['Central America', 'Yucatn Peninsula', 'South Florida'],\n",
       "   'Damages': '6.2B',\n",
       "   'Deaths': 19325}]}"
      ]
     },
     "execution_count": 101,
     "metadata": {},
     "output_type": "execute_result"
    }
   ],
   "source": [
    "# 7\n",
    "def mortality(table):\n",
    "    table_mortality = {}\n",
    "    temp_0 = []\n",
    "    temp_1 = []\n",
    "    temp_2 = []\n",
    "    temp_3 = []\n",
    "    temp_4 = []\n",
    "    # Rating Hurricanes by Mortality\n",
    "    for item in table.values():\n",
    "        if int(item[\"Deaths\"]) == 0:\n",
    "            temp_0.append(item)\n",
    "        elif int(item[\"Deaths\"]) > 0 and int(item[\"Deaths\"]) <= 100:\n",
    "            temp_1.append(item)\n",
    "        elif int(item[\"Deaths\"]) > 100 and int(item[\"Deaths\"]) <= 1000:\n",
    "            temp_2.append(item)\n",
    "        elif int(item[\"Deaths\"]) > 1000 and int(item[\"Deaths\"]) <= 10000:\n",
    "            temp_3.append(item)\n",
    "        else:\n",
    "            temp_4.append(item)\n",
    "    table_mortality[0] = temp_0\n",
    "    table_mortality[1] = temp_1\n",
    "    table_mortality[2] = temp_2\n",
    "    table_mortality[3] = temp_3\n",
    "    table_mortality[4] = temp_4\n",
    "    return table_mortality\n",
    "\n",
    "# categorize hurricanes in new dictionary with mortality severity as key\n",
    "mortality(table)"
   ]
  },
  {
   "cell_type": "markdown",
   "id": "199b0e1c",
   "metadata": {},
   "source": [
    "8. Write a function that finds the hurricane that caused the greatest damage, and how costly it was.\n",
    "\n",
    "   Test your function on your hurricane dictionary."
   ]
  },
  {
   "cell_type": "code",
   "execution_count": 107,
   "id": "b3dc79b4",
   "metadata": {},
   "outputs": [
    {
     "data": {
      "text/plain": [
       "(125000000000.0, 'Katrina')"
      ]
     },
     "execution_count": 107,
     "metadata": {},
     "output_type": "execute_result"
    }
   ],
   "source": [
    "# 8\n",
    "# Calculating Hurricane Maximum Damage\n",
    "def max_damage(table):\n",
    "    max_damage = 0\n",
    "    hurricane_name = ''\n",
    "    for row in table.values():\n",
    "        if row['Damages'] != 'Damages not recorded':\n",
    "            if (float(row['Damages'][0:-1]) * conversion[row['Damages'][-1]]) > max_damage:\n",
    "                max_damage = (float(row['Damages'][0:-1]) * conversion[row['Damages'][-1]])\n",
    "                hurricane_name = row['Name']\n",
    "    return max_damage, hurricane_name\n",
    "# find highest damage inducing hurricane and its total cost\n",
    "\n",
    "max_damage(table)\n"
   ]
  },
  {
   "cell_type": "markdown",
   "id": "58d22ddc",
   "metadata": {},
   "source": [
    "9. Lastly, you want to rate hurricanes according to how much damage they cause.\n",
    "\n",
    "   Write a function that rates hurricanes on a damage scale according to the following ratings, where the key is the rating and the value is the upper bound of damage for that rating.\n",
    "   ```py\n",
    "   damage_scale = {0: 0,\n",
    "   1: 100000000,\n",
    "   2: 1000000000,\n",
    "   3: 10000000000,\n",
    "   4: 50000000000}\n",
    "   ```\n",
    "   \n",
    "   For example, a hurricane with a `1` damage rating would have resulted in damages greater than `0` USD but less than or equal to `100000000` USD. A hurricane with a `5` damage rating would have resulted in damages greater than `50000000000` USD (talk about a lot of money).\n",
    "   \n",
    "   Store the hurricanes in a new dictionary where the keys are damage ratings and the values are lists containing a dictionary for each hurricane that falls into that damage rating.\n",
    "   \n",
    "   Test your function on your hurricane dictionary."
   ]
  },
  {
   "cell_type": "code",
   "execution_count": null,
   "id": "e543f487",
   "metadata": {},
   "outputs": [],
   "source": [
    "# 9\n",
    "# Rating Hurricanes by Damage\n",
    "damage_scale = {0: 0,\n",
    "                1: 100000000,\n",
    "                2: 1000000000,\n",
    "                3: 10000000000,\n",
    "                4: 50000000000}\n",
    "\n",
    "# categorize hurricanes in new dictionary with damage severity as key\n"
   ]
  },
  {
   "cell_type": "markdown",
   "id": "928c5fd2",
   "metadata": {},
   "source": [
    "## Solution"
   ]
  },
  {
   "cell_type": "markdown",
   "id": "252616a3",
   "metadata": {},
   "source": [
    "Great work! View the **Hurricane Analysis_Solution.ipynb** file or visit [our forums](https://discuss.codecademy.com/t/hurricane-analysis-challenge-project-python/462363) to compare your project to our sample solution code. You can also learn how to host your own solution on GitHub so you can share it with other learners! Your solution might look different than ours, and that's okay! There are multiple ways to solve these projects, and you'll learn more by seeing others' code."
   ]
  },
  {
   "cell_type": "code",
   "execution_count": null,
   "id": "da8f7141",
   "metadata": {},
   "outputs": [],
   "source": []
  }
 ],
 "metadata": {
  "kernelspec": {
   "display_name": "Python 3.10.8 64-bit (microsoft store)",
   "language": "python",
   "name": "python3"
  },
  "language_info": {
   "codemirror_mode": {
    "name": "ipython",
    "version": 3
   },
   "file_extension": ".py",
   "mimetype": "text/x-python",
   "name": "python",
   "nbconvert_exporter": "python",
   "pygments_lexer": "ipython3",
   "version": "3.10.11"
  },
  "vscode": {
   "interpreter": {
    "hash": "b784193cf0f9970b27f3c12f21dbff8ed97e3cf923dc23fe210654173bc3fdd0"
   }
  }
 },
 "nbformat": 4,
 "nbformat_minor": 5
}
